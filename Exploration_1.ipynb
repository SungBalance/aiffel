{
 "cells": [
  {
   "cell_type": "code",
   "execution_count": 1,
   "metadata": {},
   "outputs": [
    {
     "name": "stdout",
     "output_type": "stream",
     "text": [
      "Requirement already satisfied: pillow in /home/aiffel/anaconda3/envs/aiffel/lib/python3.7/site-packages (7.2.0)\r\n"
     ]
    }
   ],
   "source": [
    "!pip install pillow   \n",
    "\n",
    "from PIL import Image\n",
    "import os, glob\n",
    "import numpy as np"
   ]
  },
  {
   "cell_type": "markdown",
   "metadata": {},
   "source": [
    "# 1. 데이터 준비"
   ]
  },
  {
   "cell_type": "code",
   "execution_count": 2,
   "metadata": {},
   "outputs": [],
   "source": [
    "def resize(image_dir_path):\n",
    "  print(\"이미지 디렉토리 경로: \", image_dir_path)\n",
    "  images=glob.glob(image_dir_path + \"/*.jpg\")  \n",
    "\n",
    "  # 파일마다 모두 28x28 사이즈로 바꾸어 저장합니다.\n",
    "  target_size=(28,28)\n",
    "  for img in images:\n",
    "    old_img=Image.open(img)\n",
    "    new_img=old_img.resize(target_size,Image.ANTIALIAS)\n",
    "    new_img.save(img,\"JPEG\")"
   ]
  },
  {
   "cell_type": "code",
   "execution_count": 3,
   "metadata": {},
   "outputs": [],
   "source": [
    "def load_data(img_path, number_of_data):\n",
    "    # 가위 : 0, 바위 : 1, 보 : 2\n",
    "    # 가위바위보 이미지 개수 총합에 주의하세요.\n",
    "    img_size=28\n",
    "    color=3\n",
    "    #이미지 데이터와 라벨(가위 : 0, 바위 : 1, 보 : 2) 데이터를 담을 행렬(matrix) 영역을 생성합니다.\n",
    "    imgs=np.zeros(number_of_data*img_size*img_size*color,dtype=np.int32).reshape(number_of_data,img_size,img_size,color)\n",
    "    labels=np.zeros(number_of_data,dtype=np.int32)\n",
    "\n",
    "    idx=0\n",
    "    for file in glob.iglob(img_path+'/scissor/*.jpg'):\n",
    "        img = np.array(Image.open(file),dtype=np.int32)\n",
    "        imgs[idx,:,:,:]=img    # 데이터 영역에 이미지 행렬을 복사\n",
    "        labels[idx]=0   # 가위 : 0\n",
    "        idx=idx+1\n",
    "\n",
    "    for file in glob.iglob(img_path+'/rock/*.jpg'):\n",
    "        img = np.array(Image.open(file),dtype=np.int32)\n",
    "        imgs[idx,:,:,:]=img    # 데이터 영역에 이미지 행렬을 복사\n",
    "        labels[idx]=1   # 바위 : 1\n",
    "        idx=idx+1       \n",
    "    \n",
    "    for file in glob.iglob(img_path+'/paper/*.jpg'):\n",
    "        img = np.array(Image.open(file),dtype=np.int32)\n",
    "        imgs[idx,:,:,:]=img    # 데이터 영역에 이미지 행렬을 복사\n",
    "        labels[idx]=2   # 보 : 2\n",
    "        idx=idx+1\n",
    "        \n",
    "    print(\"데이터셋의 이미지 개수는\",idx,\"입니다.\")\n",
    "    return imgs, labels"
   ]
  },
  {
   "cell_type": "code",
   "execution_count": null,
   "metadata": {},
   "outputs": [],
   "source": [
    "# resize trainset\n",
    "resize(os.getenv(\"HOME\") + \"/aiffel/E1_rock_scissor_paper/train/scissor\")\n",
    "resize(os.getenv(\"HOME\") + \"/aiffel/E1_rock_scissor_paper/train/rock\")\n",
    "resize(os.getenv(\"HOME\") + \"/aiffel/E1_rock_scissor_paper/train/paper\")\n",
    "\n",
    "# resize testset\n",
    "resize(os.getenv(\"HOME\") + \"/aiffel/E1_rock_scissor_paper/test/scissor\")\n",
    "resize(os.getenv(\"HOME\") + \"/aiffel/E1_rock_scissor_paper/test/rock\")\n",
    "resize(os.getenv(\"HOME\") + \"/aiffel/E1_rock_scissor_paper/test/paper\")"
   ]
  },
  {
   "cell_type": "code",
   "execution_count": 4,
   "metadata": {},
   "outputs": [
    {
     "name": "stdout",
     "output_type": "stream",
     "text": [
      "데이터셋의 이미지 개수는 574 입니다.\n",
      "x_train shape: (574, 28, 28, 3)\n",
      "y_train shape: (574,)\n",
      "데이터셋의 이미지 개수는 155 입니다.\n",
      "x_test shape: (155, 28, 28, 3)\n",
      "y_test shape: (155,)\n"
     ]
    }
   ],
   "source": [
    "# load trainset\n",
    "image_dir_path = os.getenv(\"HOME\") + \"/aiffel/E1_rock_scissor_paper\"\n",
    "(x_train, y_train)=load_data(image_dir_path, 574)\n",
    "\n",
    "x_train = x_train/255.0 # 입력은 0~1 사이의 값으로 정규화\n",
    "print(\"x_train shape: {}\".format(x_train.shape))\n",
    "print(\"y_train shape: {}\".format(y_train.shape))\n",
    "\n",
    "# load testset\n",
    "image_dir_path = os.getenv(\"HOME\") + \"/aiffel/E1_rock_scissor_paper/test\"\n",
    "(x_test, y_test)=load_data(image_dir_path, 155)\n",
    "\n",
    "x_test = x_test/255.0 # 입력은 0~1 사이의 값으로 정규화\n",
    "print(\"x_test shape: {}\".format(x_test.shape))\n",
    "print(\"y_test shape: {}\".format(y_test.shape))"
   ]
  },
  {
   "cell_type": "markdown",
   "metadata": {},
   "source": [
    "# 2. 네트워크 설계 및 학습"
   ]
  },
  {
   "cell_type": "code",
   "execution_count": 5,
   "metadata": {},
   "outputs": [
    {
     "name": "stdout",
     "output_type": "stream",
     "text": [
      "Model: \"sequential\"\n",
      "_________________________________________________________________\n",
      "Layer (type)                 Output Shape              Param #   \n",
      "=================================================================\n",
      "conv2d (Conv2D)              (None, 25, 25, 128)       6272      \n",
      "_________________________________________________________________\n",
      "max_pooling2d (MaxPooling2D) (None, 12, 12, 128)       0         \n",
      "_________________________________________________________________\n",
      "conv2d_1 (Conv2D)            (None, 10, 10, 256)       295168    \n",
      "_________________________________________________________________\n",
      "max_pooling2d_1 (MaxPooling2 (None, 5, 5, 256)         0         \n",
      "_________________________________________________________________\n",
      "flatten (Flatten)            (None, 6400)              0         \n",
      "_________________________________________________________________\n",
      "dense (Dense)                (None, 128)               819328    \n",
      "_________________________________________________________________\n",
      "dense_1 (Dense)              (None, 3)                 387       \n",
      "=================================================================\n",
      "Total params: 1,121,155\n",
      "Trainable params: 1,121,155\n",
      "Non-trainable params: 0\n",
      "_________________________________________________________________\n"
     ]
    }
   ],
   "source": [
    "import tensorflow as tf\n",
    "from tensorflow import keras\n",
    "import numpy as np\n",
    "\n",
    "n_channel_1=128\n",
    "n_channel_2=256\n",
    "n_dense=128\n",
    "n_train_epoch=20\n",
    "\n",
    "model=keras.models.Sequential()\n",
    "model.add(keras.layers.Conv2D(n_channel_1, (4,4), activation='relu', input_shape=(28,28,3)))\n",
    "model.add(keras.layers.MaxPool2D(2,2))\n",
    "model.add(keras.layers.Conv2D(n_channel_2, (3,3), activation='relu'))\n",
    "model.add(keras.layers.MaxPooling2D((2,2)))\n",
    "model.add(keras.layers.Flatten())\n",
    "model.add(keras.layers.Dense(n_dense, activation='relu'))\n",
    "model.add(keras.layers.Dense(3, activation='softmax'))\n",
    "\n",
    "model.summary()"
   ]
  },
  {
   "cell_type": "code",
   "execution_count": 6,
   "metadata": {},
   "outputs": [
    {
     "name": "stdout",
     "output_type": "stream",
     "text": [
      "Epoch 1/20\n",
      "18/18 [==============================] - 2s 126ms/step - loss: 1.1055 - accuracy: 0.3571\n",
      "Epoch 2/20\n",
      "18/18 [==============================] - 0s 3ms/step - loss: 1.0313 - accuracy: 0.4965\n",
      "Epoch 3/20\n",
      "18/18 [==============================] - 0s 3ms/step - loss: 0.8753 - accuracy: 0.5993\n",
      "Epoch 4/20\n",
      "18/18 [==============================] - 0s 3ms/step - loss: 0.7182 - accuracy: 0.7230\n",
      "Epoch 5/20\n",
      "18/18 [==============================] - 0s 3ms/step - loss: 0.5994 - accuracy: 0.7979\n",
      "Epoch 6/20\n",
      "18/18 [==============================] - 0s 3ms/step - loss: 0.4833 - accuracy: 0.8310\n",
      "Epoch 7/20\n",
      "18/18 [==============================] - 0s 2ms/step - loss: 0.3882 - accuracy: 0.8868\n",
      "Epoch 8/20\n",
      "18/18 [==============================] - 0s 2ms/step - loss: 0.3044 - accuracy: 0.8955\n",
      "Epoch 9/20\n",
      "18/18 [==============================] - 0s 2ms/step - loss: 0.2600 - accuracy: 0.9268\n",
      "Epoch 10/20\n",
      "18/18 [==============================] - 0s 2ms/step - loss: 0.2025 - accuracy: 0.9303\n",
      "Epoch 11/20\n",
      "18/18 [==============================] - 0s 2ms/step - loss: 0.1740 - accuracy: 0.9443\n",
      "Epoch 12/20\n",
      "18/18 [==============================] - 0s 2ms/step - loss: 0.1499 - accuracy: 0.9495\n",
      "Epoch 13/20\n",
      "18/18 [==============================] - 0s 3ms/step - loss: 0.1294 - accuracy: 0.9669\n",
      "Epoch 14/20\n",
      "18/18 [==============================] - 0s 3ms/step - loss: 0.0963 - accuracy: 0.9721\n",
      "Epoch 15/20\n",
      "18/18 [==============================] - 0s 3ms/step - loss: 0.0763 - accuracy: 0.9861\n",
      "Epoch 16/20\n",
      "18/18 [==============================] - 0s 2ms/step - loss: 0.0598 - accuracy: 0.9930\n",
      "Epoch 17/20\n",
      "18/18 [==============================] - 0s 3ms/step - loss: 0.0499 - accuracy: 0.9913\n",
      "Epoch 18/20\n",
      "18/18 [==============================] - 0s 3ms/step - loss: 0.0524 - accuracy: 0.9913\n",
      "Epoch 19/20\n",
      "18/18 [==============================] - 0s 2ms/step - loss: 0.0362 - accuracy: 0.9948\n",
      "Epoch 20/20\n",
      "18/18 [==============================] - 0s 2ms/step - loss: 0.0330 - accuracy: 0.9948\n"
     ]
    },
    {
     "data": {
      "text/plain": [
       "<tensorflow.python.keras.callbacks.History at 0x7feae83c75d0>"
      ]
     },
     "execution_count": 6,
     "metadata": {},
     "output_type": "execute_result"
    }
   ],
   "source": [
    "model.compile(optimizer='adam',\n",
    "             loss='sparse_categorical_crossentropy',\n",
    "             metrics=['accuracy'])\n",
    "\n",
    "model.fit(x_train, y_train, epochs=n_train_epoch)"
   ]
  },
  {
   "cell_type": "markdown",
   "metadata": {},
   "source": [
    "# 3. test\n",
    "\n",
    "---\n",
    "5/5 - 1s - loss: 0.3189 - accuracy: 0.9097   \n",
    "test_loss: 0.3188803493976593    \n",
    "test_accuracy: 0.9096774458885193   \n"
   ]
  },
  {
   "cell_type": "code",
   "execution_count": 7,
   "metadata": {},
   "outputs": [
    {
     "name": "stdout",
     "output_type": "stream",
     "text": [
      "5/5 - 1s - loss: 0.3189 - accuracy: 0.9097\n",
      "test_loss: 0.3188803493976593 \n",
      "test_accuracy: 0.9096774458885193\n"
     ]
    }
   ],
   "source": [
    "# model을 학습시키는 코드를 직접 작성해 보세요.\n",
    "# Hint! model.evaluate()을 사용해 봅시다.\n",
    "test_loss, test_accuracy = model.evaluate(x_test, y_test, verbose=2)\n",
    "print(\"test_loss: {} \".format(test_loss))\n",
    "print(\"test_accuracy: {}\".format(test_accuracy))"
   ]
  },
  {
   "cell_type": "code",
   "execution_count": null,
   "metadata": {},
   "outputs": [],
   "source": []
  }
 ],
 "metadata": {
  "kernelspec": {
   "display_name": "Python 3",
   "language": "python",
   "name": "python3"
  },
  "language_info": {
   "codemirror_mode": {
    "name": "ipython",
    "version": 3
   },
   "file_extension": ".py",
   "mimetype": "text/x-python",
   "name": "python",
   "nbconvert_exporter": "python",
   "pygments_lexer": "ipython3",
   "version": "3.7.6"
  }
 },
 "nbformat": 4,
 "nbformat_minor": 4
}
